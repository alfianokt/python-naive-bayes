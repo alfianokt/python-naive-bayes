{
 "cells": [
  {
   "cell_type": "code",
   "execution_count": null,
   "metadata": {},
   "outputs": [
    {
     "name": "stdout",
     "output_type": "stream",
     "text": [
      "['Virginica' 'Virginica' 'Setosa' 'Setosa']\n"
     ]
    }
   ],
   "source": [
    "import pandas as pd\n",
    "from sklearn.model_selection import train_test_split\n",
    "from sklearn.naive_bayes import GaussianNB\n",
    "\n",
    "# import data from file\n",
    "data_train = pd.read_csv(\"./data/iris-latih.csv\")\n",
    "data_test = pd.read_csv(\"./data/iris-uji.csv\")\n",
    "\n",
    "# independent\n",
    "x = data_train.drop([\"variety\"], axis=1)\n",
    "# dependent\n",
    "y = data_train[\"variety\"]\n",
    "\n",
    "# split train data\n",
    "x_train, x_test, y_train, y_test = train_test_split(x, y)\n",
    "\n",
    "# init naive bayes\n",
    "modelnb = GaussianNB()\n",
    "\n",
    "# train naive bayes with data\n",
    "nbtrain = modelnb.fit(x_train, y_train)\n",
    "\n",
    "# test naive bayes predict\n",
    "y_pred = nbtrain.predict(data_test)\n",
    "\n",
    "# print predict\n",
    "print(y_pred)"
   ]
  }
 ],
 "metadata": {
  "kernelspec": {
   "display_name": "naive-bayes",
   "language": "python",
   "name": "python3"
  },
  "language_info": {
   "codemirror_mode": {
    "name": "ipython",
    "version": 3
   },
   "file_extension": ".py",
   "mimetype": "text/x-python",
   "name": "python",
   "nbconvert_exporter": "python",
   "pygments_lexer": "ipython3",
   "version": "3.10.6 (main, Nov 14 2022, 16:10:14) [GCC 11.3.0]"
  },
  "orig_nbformat": 4,
  "vscode": {
   "interpreter": {
    "hash": "befe7057b4812cc1464f2e48dce90a219d41f8f53f642bde15fc7c75f9b0344f"
   }
  }
 },
 "nbformat": 4,
 "nbformat_minor": 2
}
